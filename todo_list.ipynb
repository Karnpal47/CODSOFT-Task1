{
 "cells": [
  {
   "cell_type": "code",
   "execution_count": 5,
   "metadata": {},
   "outputs": [],
   "source": [
    "def task():\n",
    "    tasks=[]\n",
    "    print(\"Welcome to the task management task\")\n",
    "\n",
    "    total_task=int(input(\"Enter how many task you want to add:\"))\n",
    "    for i in range (1,total_task+1):\n",
    "        task_name=input(f\"Enter task {i}:\")\n",
    "        tasks.append(task_name)\n",
    "\n",
    "    print(f\"Todays tasks are\\n{tasks}\")\n",
    "\n",
    "    while True:\n",
    "        operation=int(input(\"Enter:\\n1.Add\\n2.Update\\n3.Delete\\n4.View\\n5.Exit//stop\"))\n",
    "        if operation==1:\n",
    "            add=input(\"Enter task you want to add=\")\n",
    "            tasks.append(add)\n",
    "            print(f\"Task {add} has been successfully added...\")\n",
    "        \n",
    "        elif operation==2:\n",
    "            updated_value=input(\"Enter the task name you want to update=\")\n",
    "            if updated_value in tasks:\n",
    "                up=input(\"Enter new task=\")\n",
    "                ind=tasks.index(updated_value)\n",
    "                tasks[ind]=up\n",
    "                print(f\"Updated task{up}\")\n",
    "        \n",
    "        elif operation==3:\n",
    "            del_value=input(\"Which task you want to delete=\")\n",
    "            if del_value in tasks:\n",
    "                ind=task.index(del_value)\n",
    "                del tasks[ind]\n",
    "                print(f\"Task {del_value} has been deleteed...\")\n",
    "            \n",
    "        elif operation==4:\n",
    "            print(f\"Total tasks={tasks}\")\n",
    "        elif operation==5:\n",
    "            print(\"Closing the program..\")\n",
    "            break\n",
    "        else:\n",
    "            print(\"Invalid input\")\n",
    "\n",
    "\n"
   ]
  },
  {
   "cell_type": "code",
   "execution_count": 6,
   "metadata": {},
   "outputs": [
    {
     "name": "stdout",
     "output_type": "stream",
     "text": [
      "Welcome to the task management task\n",
      "Todays tasks are\n",
      "['read', 'write']\n"
     ]
    },
    {
     "ename": "ValueError",
     "evalue": "invalid literal for int() with base 10: ''",
     "output_type": "error",
     "traceback": [
      "\u001b[1;31m---------------------------------------------------------------------------\u001b[0m",
      "\u001b[1;31mValueError\u001b[0m                                Traceback (most recent call last)",
      "Cell \u001b[1;32mIn[6], line 1\u001b[0m\n\u001b[1;32m----> 1\u001b[0m \u001b[43mtask\u001b[49m\u001b[43m(\u001b[49m\u001b[43m)\u001b[49m\n",
      "Cell \u001b[1;32mIn[5], line 13\u001b[0m, in \u001b[0;36mtask\u001b[1;34m()\u001b[0m\n\u001b[0;32m     10\u001b[0m \u001b[38;5;28mprint\u001b[39m(\u001b[38;5;124mf\u001b[39m\u001b[38;5;124m\"\u001b[39m\u001b[38;5;124mTodays tasks are\u001b[39m\u001b[38;5;130;01m\\n\u001b[39;00m\u001b[38;5;132;01m{\u001b[39;00mtasks\u001b[38;5;132;01m}\u001b[39;00m\u001b[38;5;124m\"\u001b[39m)\n\u001b[0;32m     12\u001b[0m \u001b[38;5;28;01mwhile\u001b[39;00m \u001b[38;5;28;01mTrue\u001b[39;00m:\n\u001b[1;32m---> 13\u001b[0m     operation\u001b[38;5;241m=\u001b[39m\u001b[38;5;28;43mint\u001b[39;49m\u001b[43m(\u001b[49m\u001b[38;5;28;43minput\u001b[39;49m\u001b[43m(\u001b[49m\u001b[38;5;124;43m\"\u001b[39;49m\u001b[38;5;124;43mEnter:\u001b[39;49m\u001b[38;5;130;43;01m\\n\u001b[39;49;00m\u001b[38;5;124;43m1.Add\u001b[39;49m\u001b[38;5;130;43;01m\\n\u001b[39;49;00m\u001b[38;5;124;43m2.Update\u001b[39;49m\u001b[38;5;130;43;01m\\n\u001b[39;49;00m\u001b[38;5;124;43m3.Delete\u001b[39;49m\u001b[38;5;130;43;01m\\n\u001b[39;49;00m\u001b[38;5;124;43m4.View\u001b[39;49m\u001b[38;5;130;43;01m\\n\u001b[39;49;00m\u001b[38;5;124;43m5.Exit//stop\u001b[39;49m\u001b[38;5;124;43m\"\u001b[39;49m\u001b[43m)\u001b[49m\u001b[43m)\u001b[49m\n\u001b[0;32m     14\u001b[0m     \u001b[38;5;28;01mif\u001b[39;00m operation\u001b[38;5;241m==\u001b[39m\u001b[38;5;241m1\u001b[39m:\n\u001b[0;32m     15\u001b[0m         add\u001b[38;5;241m=\u001b[39m\u001b[38;5;28minput\u001b[39m(\u001b[38;5;124m\"\u001b[39m\u001b[38;5;124mEnter task you want to add=\u001b[39m\u001b[38;5;124m\"\u001b[39m)\n",
      "\u001b[1;31mValueError\u001b[0m: invalid literal for int() with base 10: ''"
     ]
    }
   ],
   "source": [
    "task()"
   ]
  }
 ],
 "metadata": {
  "kernelspec": {
   "display_name": "Python 3",
   "language": "python",
   "name": "python3"
  },
  "language_info": {
   "codemirror_mode": {
    "name": "ipython",
    "version": 3
   },
   "file_extension": ".py",
   "mimetype": "text/x-python",
   "name": "python",
   "nbconvert_exporter": "python",
   "pygments_lexer": "ipython3",
   "version": "3.12.1"
  }
 },
 "nbformat": 4,
 "nbformat_minor": 2
}
